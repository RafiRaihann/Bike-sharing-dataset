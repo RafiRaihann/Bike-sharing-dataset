{
 "cells": [
  {
   "cell_type": "markdown",
   "id": "06004f2d-62d8-46bc-928c-287ea2ba9ae1",
   "metadata": {},
   "source": [
    "# Proyek Analisis Data: [Input Nama Dataset]\n",
    "- **Nama:** [Rafi Raihan]\n",
    "- **Email:** [m299d4ky2948@bangkit.academy]\n",
    "- **ID Dicoding:** [rafi_raihan_r1IS]"
   ]
  },
  {
   "cell_type": "markdown",
   "id": "1f6c0cfe-8d7c-4a0e-ba13-5d4b57337fbf",
   "metadata": {},
   "source": [
    "## Menentukan Pertanyaan Bisnis"
   ]
  },
  {
   "cell_type": "markdown",
   "id": "f0f5c59d-e9bb-445d-94ef-078d01572fd8",
   "metadata": {},
   "source": [
    "- Pertanyaan 1\n",
    "- Pertanyaan 2"
   ]
  },
  {
   "cell_type": "markdown",
   "id": "1e7a9269-b8b6-4df0-be25-2afc313c0661",
   "metadata": {},
   "source": [
    "## Import Semua Packages/Library yang Digunakan"
   ]
  },
  {
   "cell_type": "code",
   "execution_count": 3,
   "id": "fea4e350-439d-4d6c-aba2-3d707e7da63b",
   "metadata": {},
   "outputs": [],
   "source": [
    "import numpy as np\n",
    "import pandas as pd\n",
    "import matplotlib.pyplot as plt\n",
    "import seaborn as sns"
   ]
  },
  {
   "cell_type": "markdown",
   "id": "9557af17-22cd-449a-8e8a-f128bcd20f45",
   "metadata": {},
   "source": [
    "## Data Wrangling"
   ]
  },
  {
   "cell_type": "code",
   "execution_count": null,
   "id": "ab0f7262-5a33-4009-aab4-64995af91ec1",
   "metadata": {},
   "outputs": [],
   "source": []
  }
 ],
 "metadata": {
  "kernelspec": {
   "display_name": "Python 3 (ipykernel)",
   "language": "python",
   "name": "python3"
  },
  "language_info": {
   "codemirror_mode": {
    "name": "ipython",
    "version": 3
   },
   "file_extension": ".py",
   "mimetype": "text/x-python",
   "name": "python",
   "nbconvert_exporter": "python",
   "pygments_lexer": "ipython3",
   "version": "3.9.18"
  }
 },
 "nbformat": 4,
 "nbformat_minor": 5
}
